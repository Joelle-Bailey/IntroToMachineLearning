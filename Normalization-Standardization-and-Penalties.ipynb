{
 "cells": [
  {
   "cell_type": "markdown",
   "id": "23e7aed2",
   "metadata": {},
   "source": [
    "# Normalization, Standardization, and Penalties\n",
    "Joelle Bailey (800984146) for ECGR 4105 HW1"
   ]
  },
  {
   "cell_type": "code",
   "execution_count": 1,
   "id": "0f88f5dd",
   "metadata": {},
   "outputs": [],
   "source": [
    "import numpy as np\n",
    "import pandas as pd\n",
    "import matplotlib.pyplot as plt\n",
    "import seaborn as sns\n",
    "from sklearn.model_selection import train_test_split\n",
    "\n",
    "import warnings\n",
    "#warnings.filterwarnings('ignore')"
   ]
  },
  {
   "cell_type": "code",
   "execution_count": 2,
   "id": "ea51b375",
   "metadata": {},
   "outputs": [
    {
     "data": {
      "text/html": [
       "<div>\n",
       "<style scoped>\n",
       "    .dataframe tbody tr th:only-of-type {\n",
       "        vertical-align: middle;\n",
       "    }\n",
       "\n",
       "    .dataframe tbody tr th {\n",
       "        vertical-align: top;\n",
       "    }\n",
       "\n",
       "    .dataframe thead th {\n",
       "        text-align: right;\n",
       "    }\n",
       "</style>\n",
       "<table border=\"1\" class=\"dataframe\">\n",
       "  <thead>\n",
       "    <tr style=\"text-align: right;\">\n",
       "      <th></th>\n",
       "      <th>price</th>\n",
       "      <th>area</th>\n",
       "      <th>bedrooms</th>\n",
       "      <th>bathrooms</th>\n",
       "      <th>stories</th>\n",
       "      <th>mainroad</th>\n",
       "      <th>guestroom</th>\n",
       "      <th>basement</th>\n",
       "      <th>hotwaterheating</th>\n",
       "      <th>airconditioning</th>\n",
       "      <th>parking</th>\n",
       "      <th>prefarea</th>\n",
       "      <th>furnishingstatus</th>\n",
       "    </tr>\n",
       "  </thead>\n",
       "  <tbody>\n",
       "    <tr>\n",
       "      <th>0</th>\n",
       "      <td>13300000</td>\n",
       "      <td>7420</td>\n",
       "      <td>4</td>\n",
       "      <td>2</td>\n",
       "      <td>3</td>\n",
       "      <td>yes</td>\n",
       "      <td>no</td>\n",
       "      <td>no</td>\n",
       "      <td>no</td>\n",
       "      <td>yes</td>\n",
       "      <td>2</td>\n",
       "      <td>yes</td>\n",
       "      <td>furnished</td>\n",
       "    </tr>\n",
       "    <tr>\n",
       "      <th>1</th>\n",
       "      <td>12250000</td>\n",
       "      <td>8960</td>\n",
       "      <td>4</td>\n",
       "      <td>4</td>\n",
       "      <td>4</td>\n",
       "      <td>yes</td>\n",
       "      <td>no</td>\n",
       "      <td>no</td>\n",
       "      <td>no</td>\n",
       "      <td>yes</td>\n",
       "      <td>3</td>\n",
       "      <td>no</td>\n",
       "      <td>furnished</td>\n",
       "    </tr>\n",
       "    <tr>\n",
       "      <th>2</th>\n",
       "      <td>12250000</td>\n",
       "      <td>9960</td>\n",
       "      <td>3</td>\n",
       "      <td>2</td>\n",
       "      <td>2</td>\n",
       "      <td>yes</td>\n",
       "      <td>no</td>\n",
       "      <td>yes</td>\n",
       "      <td>no</td>\n",
       "      <td>no</td>\n",
       "      <td>2</td>\n",
       "      <td>yes</td>\n",
       "      <td>semi-furnished</td>\n",
       "    </tr>\n",
       "    <tr>\n",
       "      <th>3</th>\n",
       "      <td>12215000</td>\n",
       "      <td>7500</td>\n",
       "      <td>4</td>\n",
       "      <td>2</td>\n",
       "      <td>2</td>\n",
       "      <td>yes</td>\n",
       "      <td>no</td>\n",
       "      <td>yes</td>\n",
       "      <td>no</td>\n",
       "      <td>yes</td>\n",
       "      <td>3</td>\n",
       "      <td>yes</td>\n",
       "      <td>furnished</td>\n",
       "    </tr>\n",
       "    <tr>\n",
       "      <th>4</th>\n",
       "      <td>11410000</td>\n",
       "      <td>7420</td>\n",
       "      <td>4</td>\n",
       "      <td>1</td>\n",
       "      <td>2</td>\n",
       "      <td>yes</td>\n",
       "      <td>yes</td>\n",
       "      <td>yes</td>\n",
       "      <td>no</td>\n",
       "      <td>yes</td>\n",
       "      <td>2</td>\n",
       "      <td>no</td>\n",
       "      <td>furnished</td>\n",
       "    </tr>\n",
       "    <tr>\n",
       "      <th>...</th>\n",
       "      <td>...</td>\n",
       "      <td>...</td>\n",
       "      <td>...</td>\n",
       "      <td>...</td>\n",
       "      <td>...</td>\n",
       "      <td>...</td>\n",
       "      <td>...</td>\n",
       "      <td>...</td>\n",
       "      <td>...</td>\n",
       "      <td>...</td>\n",
       "      <td>...</td>\n",
       "      <td>...</td>\n",
       "      <td>...</td>\n",
       "    </tr>\n",
       "    <tr>\n",
       "      <th>540</th>\n",
       "      <td>1820000</td>\n",
       "      <td>3000</td>\n",
       "      <td>2</td>\n",
       "      <td>1</td>\n",
       "      <td>1</td>\n",
       "      <td>yes</td>\n",
       "      <td>no</td>\n",
       "      <td>yes</td>\n",
       "      <td>no</td>\n",
       "      <td>no</td>\n",
       "      <td>2</td>\n",
       "      <td>no</td>\n",
       "      <td>unfurnished</td>\n",
       "    </tr>\n",
       "    <tr>\n",
       "      <th>541</th>\n",
       "      <td>1767150</td>\n",
       "      <td>2400</td>\n",
       "      <td>3</td>\n",
       "      <td>1</td>\n",
       "      <td>1</td>\n",
       "      <td>no</td>\n",
       "      <td>no</td>\n",
       "      <td>no</td>\n",
       "      <td>no</td>\n",
       "      <td>no</td>\n",
       "      <td>0</td>\n",
       "      <td>no</td>\n",
       "      <td>semi-furnished</td>\n",
       "    </tr>\n",
       "    <tr>\n",
       "      <th>542</th>\n",
       "      <td>1750000</td>\n",
       "      <td>3620</td>\n",
       "      <td>2</td>\n",
       "      <td>1</td>\n",
       "      <td>1</td>\n",
       "      <td>yes</td>\n",
       "      <td>no</td>\n",
       "      <td>no</td>\n",
       "      <td>no</td>\n",
       "      <td>no</td>\n",
       "      <td>0</td>\n",
       "      <td>no</td>\n",
       "      <td>unfurnished</td>\n",
       "    </tr>\n",
       "    <tr>\n",
       "      <th>543</th>\n",
       "      <td>1750000</td>\n",
       "      <td>2910</td>\n",
       "      <td>3</td>\n",
       "      <td>1</td>\n",
       "      <td>1</td>\n",
       "      <td>no</td>\n",
       "      <td>no</td>\n",
       "      <td>no</td>\n",
       "      <td>no</td>\n",
       "      <td>no</td>\n",
       "      <td>0</td>\n",
       "      <td>no</td>\n",
       "      <td>furnished</td>\n",
       "    </tr>\n",
       "    <tr>\n",
       "      <th>544</th>\n",
       "      <td>1750000</td>\n",
       "      <td>3850</td>\n",
       "      <td>3</td>\n",
       "      <td>1</td>\n",
       "      <td>2</td>\n",
       "      <td>yes</td>\n",
       "      <td>no</td>\n",
       "      <td>no</td>\n",
       "      <td>no</td>\n",
       "      <td>no</td>\n",
       "      <td>0</td>\n",
       "      <td>no</td>\n",
       "      <td>unfurnished</td>\n",
       "    </tr>\n",
       "  </tbody>\n",
       "</table>\n",
       "<p>545 rows × 13 columns</p>\n",
       "</div>"
      ],
      "text/plain": [
       "        price  area  bedrooms  bathrooms  stories mainroad guestroom basement  \\\n",
       "0    13300000  7420         4          2        3      yes        no       no   \n",
       "1    12250000  8960         4          4        4      yes        no       no   \n",
       "2    12250000  9960         3          2        2      yes        no      yes   \n",
       "3    12215000  7500         4          2        2      yes        no      yes   \n",
       "4    11410000  7420         4          1        2      yes       yes      yes   \n",
       "..        ...   ...       ...        ...      ...      ...       ...      ...   \n",
       "540   1820000  3000         2          1        1      yes        no      yes   \n",
       "541   1767150  2400         3          1        1       no        no       no   \n",
       "542   1750000  3620         2          1        1      yes        no       no   \n",
       "543   1750000  2910         3          1        1       no        no       no   \n",
       "544   1750000  3850         3          1        2      yes        no       no   \n",
       "\n",
       "    hotwaterheating airconditioning  parking prefarea furnishingstatus  \n",
       "0                no             yes        2      yes        furnished  \n",
       "1                no             yes        3       no        furnished  \n",
       "2                no              no        2      yes   semi-furnished  \n",
       "3                no             yes        3      yes        furnished  \n",
       "4                no             yes        2       no        furnished  \n",
       "..              ...             ...      ...      ...              ...  \n",
       "540              no              no        2       no      unfurnished  \n",
       "541              no              no        0       no   semi-furnished  \n",
       "542              no              no        0       no      unfurnished  \n",
       "543              no              no        0       no        furnished  \n",
       "544              no              no        0       no      unfurnished  \n",
       "\n",
       "[545 rows x 13 columns]"
      ]
     },
     "execution_count": 2,
     "metadata": {},
     "output_type": "execute_result"
    }
   ],
   "source": [
    "df = pd.read_csv(\"Housing.csv\")\n",
    "df"
   ]
  },
  {
   "cell_type": "code",
   "execution_count": 3,
   "id": "597f5c3f",
   "metadata": {},
   "outputs": [
    {
     "data": {
      "text/html": [
       "<div>\n",
       "<style scoped>\n",
       "    .dataframe tbody tr th:only-of-type {\n",
       "        vertical-align: middle;\n",
       "    }\n",
       "\n",
       "    .dataframe tbody tr th {\n",
       "        vertical-align: top;\n",
       "    }\n",
       "\n",
       "    .dataframe thead th {\n",
       "        text-align: right;\n",
       "    }\n",
       "</style>\n",
       "<table border=\"1\" class=\"dataframe\">\n",
       "  <thead>\n",
       "    <tr style=\"text-align: right;\">\n",
       "      <th></th>\n",
       "      <th>price</th>\n",
       "      <th>area</th>\n",
       "      <th>bedrooms</th>\n",
       "      <th>bathrooms</th>\n",
       "      <th>stories</th>\n",
       "      <th>mainroad</th>\n",
       "      <th>guestroom</th>\n",
       "      <th>basement</th>\n",
       "      <th>hotwaterheating</th>\n",
       "      <th>airconditioning</th>\n",
       "      <th>parking</th>\n",
       "      <th>prefarea</th>\n",
       "      <th>furnishingstatus</th>\n",
       "    </tr>\n",
       "  </thead>\n",
       "  <tbody>\n",
       "    <tr>\n",
       "      <th>0</th>\n",
       "      <td>13300000</td>\n",
       "      <td>7420</td>\n",
       "      <td>4</td>\n",
       "      <td>2</td>\n",
       "      <td>3</td>\n",
       "      <td>1</td>\n",
       "      <td>0</td>\n",
       "      <td>0</td>\n",
       "      <td>0</td>\n",
       "      <td>1</td>\n",
       "      <td>2</td>\n",
       "      <td>1</td>\n",
       "      <td>furnished</td>\n",
       "    </tr>\n",
       "    <tr>\n",
       "      <th>1</th>\n",
       "      <td>12250000</td>\n",
       "      <td>8960</td>\n",
       "      <td>4</td>\n",
       "      <td>4</td>\n",
       "      <td>4</td>\n",
       "      <td>1</td>\n",
       "      <td>0</td>\n",
       "      <td>0</td>\n",
       "      <td>0</td>\n",
       "      <td>1</td>\n",
       "      <td>3</td>\n",
       "      <td>0</td>\n",
       "      <td>furnished</td>\n",
       "    </tr>\n",
       "    <tr>\n",
       "      <th>2</th>\n",
       "      <td>12250000</td>\n",
       "      <td>9960</td>\n",
       "      <td>3</td>\n",
       "      <td>2</td>\n",
       "      <td>2</td>\n",
       "      <td>1</td>\n",
       "      <td>0</td>\n",
       "      <td>1</td>\n",
       "      <td>0</td>\n",
       "      <td>0</td>\n",
       "      <td>2</td>\n",
       "      <td>1</td>\n",
       "      <td>semi-furnished</td>\n",
       "    </tr>\n",
       "    <tr>\n",
       "      <th>3</th>\n",
       "      <td>12215000</td>\n",
       "      <td>7500</td>\n",
       "      <td>4</td>\n",
       "      <td>2</td>\n",
       "      <td>2</td>\n",
       "      <td>1</td>\n",
       "      <td>0</td>\n",
       "      <td>1</td>\n",
       "      <td>0</td>\n",
       "      <td>1</td>\n",
       "      <td>3</td>\n",
       "      <td>1</td>\n",
       "      <td>furnished</td>\n",
       "    </tr>\n",
       "    <tr>\n",
       "      <th>4</th>\n",
       "      <td>11410000</td>\n",
       "      <td>7420</td>\n",
       "      <td>4</td>\n",
       "      <td>1</td>\n",
       "      <td>2</td>\n",
       "      <td>1</td>\n",
       "      <td>1</td>\n",
       "      <td>1</td>\n",
       "      <td>0</td>\n",
       "      <td>1</td>\n",
       "      <td>2</td>\n",
       "      <td>0</td>\n",
       "      <td>furnished</td>\n",
       "    </tr>\n",
       "    <tr>\n",
       "      <th>...</th>\n",
       "      <td>...</td>\n",
       "      <td>...</td>\n",
       "      <td>...</td>\n",
       "      <td>...</td>\n",
       "      <td>...</td>\n",
       "      <td>...</td>\n",
       "      <td>...</td>\n",
       "      <td>...</td>\n",
       "      <td>...</td>\n",
       "      <td>...</td>\n",
       "      <td>...</td>\n",
       "      <td>...</td>\n",
       "      <td>...</td>\n",
       "    </tr>\n",
       "    <tr>\n",
       "      <th>540</th>\n",
       "      <td>1820000</td>\n",
       "      <td>3000</td>\n",
       "      <td>2</td>\n",
       "      <td>1</td>\n",
       "      <td>1</td>\n",
       "      <td>1</td>\n",
       "      <td>0</td>\n",
       "      <td>1</td>\n",
       "      <td>0</td>\n",
       "      <td>0</td>\n",
       "      <td>2</td>\n",
       "      <td>0</td>\n",
       "      <td>unfurnished</td>\n",
       "    </tr>\n",
       "    <tr>\n",
       "      <th>541</th>\n",
       "      <td>1767150</td>\n",
       "      <td>2400</td>\n",
       "      <td>3</td>\n",
       "      <td>1</td>\n",
       "      <td>1</td>\n",
       "      <td>0</td>\n",
       "      <td>0</td>\n",
       "      <td>0</td>\n",
       "      <td>0</td>\n",
       "      <td>0</td>\n",
       "      <td>0</td>\n",
       "      <td>0</td>\n",
       "      <td>semi-furnished</td>\n",
       "    </tr>\n",
       "    <tr>\n",
       "      <th>542</th>\n",
       "      <td>1750000</td>\n",
       "      <td>3620</td>\n",
       "      <td>2</td>\n",
       "      <td>1</td>\n",
       "      <td>1</td>\n",
       "      <td>1</td>\n",
       "      <td>0</td>\n",
       "      <td>0</td>\n",
       "      <td>0</td>\n",
       "      <td>0</td>\n",
       "      <td>0</td>\n",
       "      <td>0</td>\n",
       "      <td>unfurnished</td>\n",
       "    </tr>\n",
       "    <tr>\n",
       "      <th>543</th>\n",
       "      <td>1750000</td>\n",
       "      <td>2910</td>\n",
       "      <td>3</td>\n",
       "      <td>1</td>\n",
       "      <td>1</td>\n",
       "      <td>0</td>\n",
       "      <td>0</td>\n",
       "      <td>0</td>\n",
       "      <td>0</td>\n",
       "      <td>0</td>\n",
       "      <td>0</td>\n",
       "      <td>0</td>\n",
       "      <td>furnished</td>\n",
       "    </tr>\n",
       "    <tr>\n",
       "      <th>544</th>\n",
       "      <td>1750000</td>\n",
       "      <td>3850</td>\n",
       "      <td>3</td>\n",
       "      <td>1</td>\n",
       "      <td>2</td>\n",
       "      <td>1</td>\n",
       "      <td>0</td>\n",
       "      <td>0</td>\n",
       "      <td>0</td>\n",
       "      <td>0</td>\n",
       "      <td>0</td>\n",
       "      <td>0</td>\n",
       "      <td>unfurnished</td>\n",
       "    </tr>\n",
       "  </tbody>\n",
       "</table>\n",
       "<p>545 rows × 13 columns</p>\n",
       "</div>"
      ],
      "text/plain": [
       "        price  area  bedrooms  bathrooms  stories  mainroad  guestroom  \\\n",
       "0    13300000  7420         4          2        3         1          0   \n",
       "1    12250000  8960         4          4        4         1          0   \n",
       "2    12250000  9960         3          2        2         1          0   \n",
       "3    12215000  7500         4          2        2         1          0   \n",
       "4    11410000  7420         4          1        2         1          1   \n",
       "..        ...   ...       ...        ...      ...       ...        ...   \n",
       "540   1820000  3000         2          1        1         1          0   \n",
       "541   1767150  2400         3          1        1         0          0   \n",
       "542   1750000  3620         2          1        1         1          0   \n",
       "543   1750000  2910         3          1        1         0          0   \n",
       "544   1750000  3850         3          1        2         1          0   \n",
       "\n",
       "     basement  hotwaterheating  airconditioning  parking  prefarea  \\\n",
       "0           0                0                1        2         1   \n",
       "1           0                0                1        3         0   \n",
       "2           1                0                0        2         1   \n",
       "3           1                0                1        3         1   \n",
       "4           1                0                1        2         0   \n",
       "..        ...              ...              ...      ...       ...   \n",
       "540         1                0                0        2         0   \n",
       "541         0                0                0        0         0   \n",
       "542         0                0                0        0         0   \n",
       "543         0                0                0        0         0   \n",
       "544         0                0                0        0         0   \n",
       "\n",
       "    furnishingstatus  \n",
       "0          furnished  \n",
       "1          furnished  \n",
       "2     semi-furnished  \n",
       "3          furnished  \n",
       "4          furnished  \n",
       "..               ...  \n",
       "540      unfurnished  \n",
       "541   semi-furnished  \n",
       "542      unfurnished  \n",
       "543        furnished  \n",
       "544      unfurnished  \n",
       "\n",
       "[545 rows x 13 columns]"
      ]
     },
     "execution_count": 3,
     "metadata": {},
     "output_type": "execute_result"
    }
   ],
   "source": [
    "# Binary mapping Yes and No to 1 and 0\n",
    "colToMap = ['mainroad', 'guestroom', 'basement', 'hotwaterheating', 'airconditioning', 'prefarea']\n",
    "\n",
    "def binary_map(x):\n",
    "    return x.map({'yes': 1, 'no':0})\n",
    "\n",
    "df[colToMap] = df[colToMap].apply(binary_map)\n",
    "df"
   ]
  },
  {
   "cell_type": "code",
   "execution_count": 4,
   "id": "c05d74ee",
   "metadata": {},
   "outputs": [
    {
     "data": {
      "text/plain": [
       "(436, 13)"
      ]
     },
     "execution_count": 4,
     "metadata": {},
     "output_type": "execute_result"
    }
   ],
   "source": [
    "np.random.seed(0)\n",
    "df_train, df_test = train_test_split(df, train_size = 0.8, test_size = 0.2)\n",
    "df_train.shape"
   ]
  },
  {
   "cell_type": "code",
   "execution_count": 5,
   "id": "e674eec0",
   "metadata": {},
   "outputs": [],
   "source": [
    "def find_loss(X, Y, theta, m):\n",
    "    '''explanation here'''\n",
    "\n",
    "    h = X.dot(theta)\n",
    "    error = np.subtract(h,Y)\n",
    "    squareError = np.square(error)\n",
    "    J = 1/(2*m) * np.sum(squareError) #loss calculation\n",
    "    \n",
    "    return J"
   ]
  },
  {
   "cell_type": "code",
   "execution_count": 6,
   "id": "d1981baf",
   "metadata": {},
   "outputs": [],
   "source": [
    "def find_linear_regression(X_train, Y_train, X_test, Y_test, theta, alpha, iterations):\n",
    "    '''Using gradient descent Comment here'''\n",
    "    \n",
    "    training_loss_history = np.zeros(iterations)\n",
    "    validation_loss_history = np.zeros(iterations)\n",
    "    \n",
    "    for i in range(iterations):\n",
    "        h = X_train.dot(theta)\n",
    "        \n",
    "        error = np.subtract(h,Y_train)\n",
    "        \n",
    "        dj_dtheta = (1/m_train) * X_train.transpose().dot(error)   #(2,100)dot(100,1)    \n",
    "    \n",
    "        theta = theta - alpha*dj_dtheta\n",
    "        \n",
    "        training_loss_history[i] = find_loss(X_train, Y_train, theta, m_train)\n",
    "        validation_loss_history[i] = find_loss(X_test, Y_test, theta, m_test)\n",
    "        \n",
    "    return theta, training_loss_history, validation_loss_history"
   ]
  },
  {
   "cell_type": "code",
   "execution_count": 7,
   "id": "eaa19f71",
   "metadata": {},
   "outputs": [],
   "source": [
    "def feature_scale(df_train, df_test, categories, scaler):\n",
    "    ''' '''\n",
    "    #Training Setup\n",
    "    df_norm_train = df_train\n",
    "\n",
    "    df_norm_train[['price']] = scaler.fit_transform(df_train[['price']])\n",
    "    df_norm_train[categories] = scaler.fit_transform(df_train[categories])\n",
    "\n",
    "    Y_norm_train = df_norm_train[['price']].to_numpy()\n",
    "\n",
    "    m_norm_train = len(Y_norm_train)\n",
    "\n",
    "    X_norm_train = df_norm_train[categories].to_numpy()\n",
    "    X_norm_train = np.hstack((np.ones((m_norm_train,1)), X_norm_train))\n",
    "    \n",
    "    #Testing Setup\n",
    "    df_norm_test = df_test\n",
    "\n",
    "    df_norm_test[['price']] = scaler.fit_transform(df_norm_test[['price']])\n",
    "    df_norm_test[categories] = scaler.fit_transform(df_norm_test[categories])\n",
    "\n",
    "    Y_norm_test = df_norm_test[['price']].to_numpy()\n",
    "\n",
    "    m_norm_test = len(Y_norm_test)\n",
    "\n",
    "    X_norm_test = df_norm_test[categories].to_numpy()\n",
    "    X_norm_test = np.hstack((np.ones((m_norm_test,1)), X_norm_test))\n",
    "    \n",
    "    return X_norm_train, Y_norm_train, X_norm_test, Y_norm_test\n",
    "    "
   ]
  },
  {
   "cell_type": "markdown",
   "id": "efb4476d",
   "metadata": {},
   "source": [
    "## Housing Price Prediction 1a: No Normalization\n",
    "using categories: area, bedrooms, bathrooms, stories, parking"
   ]
  },
  {
   "cell_type": "code",
   "execution_count": 8,
   "id": "7459efeb",
   "metadata": {},
   "outputs": [],
   "source": [
    "categories_1 = ['area', 'bedrooms', 'bathrooms', 'stories', 'parking']\n",
    "\n",
    "Y_train = df_train[['price']].to_numpy()\n",
    "\n",
    "m_train = len(Y_train)\n",
    "\n",
    "X_train = df_train[categories_1].to_numpy()\n",
    "X_train = np.hstack((np.ones((m_train, 1)), X_train))\n",
    "\n",
    "Y_test = df_test[['price']].to_numpy()\n",
    "\n",
    "m_test = len(Y_test)\n",
    "\n",
    "X_test = df_test[categories_1].to_numpy()\n",
    "X_test = np.hstack((np.ones((m_test, 1)), X_test))"
   ]
  },
  {
   "cell_type": "code",
   "execution_count": 9,
   "id": "6c1c247e",
   "metadata": {},
   "outputs": [
    {
     "name": "stdout",
     "output_type": "stream",
     "text": [
      "Theta Prediction 1 = [[3.13561065e-01]\n",
      " [8.61036589e+02]\n",
      " [1.09683129e+00]\n",
      " [5.63000588e-01]\n",
      " [8.43335437e-01]\n",
      " [2.85563408e-01]]\n"
     ]
    }
   ],
   "source": [
    "iterations = 500\n",
    "alpha = 0.000000001\n",
    "\n",
    "theta = np.zeros((6,1))\n",
    "\n",
    "theta, training_loss_history, validation_loss_history = find_linear_regression(X_train, Y_train, X_test, Y_test, theta, alpha, iterations)\n",
    "print('Theta Prediction 1 =', theta)"
   ]
  },
  {
   "cell_type": "code",
   "execution_count": 10,
   "id": "64babbeb",
   "metadata": {},
   "outputs": [
    {
     "data": {
      "text/plain": [
       "Text(0.5, 1.0, '1a: No Normalization Training Loss per Iteration')"
      ]
     },
     "execution_count": 10,
     "metadata": {},
     "output_type": "execute_result"
    },
    {
     "data": {
      "image/png": "[encoded data removed]",
      "text/plain": [
       "<Figure size 432x288 with 1 Axes>"
      ]
     },
     "metadata": {
      "needs_background": "light"
     },
     "output_type": "display_data"
    }
   ],
   "source": [
    "plt.plot(range(1, iterations + 1), training_loss_history)\n",
    "plt.plot(range(1, iterations + 1), validation_loss_history)\n",
    "plt.grid()\n",
    "plt.xlabel('Iterations')\n",
    "plt.ylabel('Loss')\n",
    "plt.title('1a: No Normalization Training Loss per Iteration')"
   ]
  },
  {
   "cell_type": "markdown",
   "id": "8c735a3c",
   "metadata": {},
   "source": [
    "## Housing Price Prediction 1b: No Normalization\n",
    "using categories: area, bedrooms, bathrooms, stories, mainroad, guestroom, basement, hotwaterheating, airconditioning, parking, prefarea "
   ]
  },
  {
   "cell_type": "code",
   "execution_count": 11,
   "id": "ce28a90c",
   "metadata": {},
   "outputs": [],
   "source": [
    "categories_2 = ['area', 'bedrooms', 'bathrooms', 'stories', 'mainroad', 'guestroom', 'basement', 'hotwaterheating', 'airconditioning', 'parking', 'prefarea']\n",
    "\n",
    "Y_train = df_train[['price']].to_numpy()\n",
    "\n",
    "m_train = len(Y_train)\n",
    "\n",
    "X_train = df_train[categories_2].to_numpy()\n",
    "X_train = np.hstack((np.ones((m_train, 1)), X_train))\n",
    "\n",
    "Y_test = df_test[['price']].to_numpy()\n",
    "\n",
    "m_test = len(Y_test)\n",
    "\n",
    "X_test = df_test[categories_2].to_numpy()\n",
    "X_test = np.hstack((np.ones((m_test, 1)), X_test))"
   ]
  },
  {
   "cell_type": "code",
   "execution_count": 12,
   "id": "2ec2224b",
   "metadata": {},
   "outputs": [
    {
     "name": "stdout",
     "output_type": "stream",
     "text": [
      "Theta Prediction 2 = [[3.13561041e-01]\n",
      " [8.61036517e+02]\n",
      " [1.09683122e+00]\n",
      " [5.63000555e-01]\n",
      " [8.43335388e-01]\n",
      " [2.83899739e-01]\n",
      " [1.08652124e-01]\n",
      " [1.79348387e-01]\n",
      " [4.03019711e-02]\n",
      " [2.05945137e-01]\n",
      " [2.85563390e-01]\n",
      " [1.23327303e-01]]\n"
     ]
    }
   ],
   "source": [
    "iterations = 500\n",
    "alpha = 0.000000001\n",
    "\n",
    "theta = np.zeros((12,1))\n",
    "\n",
    "theta, training_loss_history, validation_loss_history = find_linear_regression(X_train, Y_train, X_test, Y_test, theta, alpha, iterations)\n",
    "print('Theta Prediction 2 =', theta)"
   ]
  },
  {
   "cell_type": "code",
   "execution_count": 13,
   "id": "27b08c7d",
   "metadata": {},
   "outputs": [
    {
     "data": {
      "text/plain": [
       "Text(0.5, 1.0, '1b: No Normalization Training Loss per Iteration')"
      ]
     },
     "execution_count": 13,
     "metadata": {},
     "output_type": "execute_result"
    },
    {
     "data": {
      "image/png": "[encoded data removed]",
      "text/plain": [
       "<Figure size 432x288 with 1 Axes>"
      ]
     },
     "metadata": {
      "needs_background": "light"
     },
     "output_type": "display_data"
    }
   ],
   "source": [
    "plt.plot(range(1, iterations + 1), training_loss_history)\n",
    "plt.plot(range(1, iterations + 1), validation_loss_history)\n",
    "plt.grid()\n",
    "plt.xlabel('Iterations')\n",
    "plt.ylabel('Loss')\n",
    "plt.title('1b: No Normalization Training Loss per Iteration')"
   ]
  },
  {
   "cell_type": "markdown",
   "id": "4ec8c12b",
   "metadata": {},
   "source": [
    "## 2a: Standardization and Normalization Process\n",
    "using categories: area, bedrooms, bathrooms, stories, parking"
   ]
  },
  {
   "cell_type": "code",
   "execution_count": 14,
   "id": "aabda6b7",
   "metadata": {},
   "outputs": [],
   "source": [
    "from sklearn.preprocessing import StandardScaler, MinMaxScaler\n",
    "\n",
    "# Normalization Process\n",
    "scaler = MinMaxScaler()\n",
    "\n",
    "#Training Setup\n",
    "df_norm_train = df_train\n",
    "\n",
    "df_norm_train[['price']] = scaler.fit_transform(df_train[['price']])\n",
    "df_norm_train[categories_1] = scaler.fit_transform(df_train[categories_1])\n",
    "\n",
    "Y_norm_train = df_norm_train[['price']].to_numpy()\n",
    "\n",
    "m_norm_train = len(Y_norm_train)\n",
    "\n",
    "X_norm_train = df_norm_train[categories_1].to_numpy()\n",
    "X_norm_train = np.hstack((np.ones((m_norm_train,1)), X_norm_train))"
   ]
  },
  {
   "cell_type": "code",
   "execution_count": 15,
   "id": "0d992541",
   "metadata": {},
   "outputs": [],
   "source": [
    "#Testing Setup\n",
    "df_norm_test = df_test\n",
    "\n",
    "df_norm_test[['price']] = scaler.fit_transform(df_norm_test[['price']])\n",
    "df_norm_test[categories_1] = scaler.fit_transform(df_norm_test[categories_1])\n",
    "\n",
    "Y_norm_test = df_norm_test[['price']].to_numpy()\n",
    "\n",
    "m_norm_test = len(Y_norm_test)\n",
    "\n",
    "X_norm_test = df_norm_test[categories_1].to_numpy()\n",
    "X_norm_test = np.hstack((np.ones((m_norm_test,1)), X_norm_test))"
   ]
  },
  {
   "cell_type": "code",
   "execution_count": 16,
   "id": "6b43b2f9",
   "metadata": {},
   "outputs": [
    {
     "name": "stdout",
     "output_type": "stream",
     "text": [
      "Theta Prediction 2a = [[0.09500384]\n",
      " [0.17381659]\n",
      " [0.09700371]\n",
      " [0.17097046]\n",
      " [0.13712255]\n",
      " [0.12607193]]\n"
     ]
    }
   ],
   "source": [
    "iterations = 2000\n",
    "alpha = 0.01\n",
    "\n",
    "theta = np.zeros((6,1))\n",
    "\n",
    "theta, training_loss_history, validation_loss_history = find_linear_regression(X_norm_train, Y_norm_train, X_norm_test, Y_norm_test, theta, alpha, iterations)\n",
    "print('Theta Prediction 2a =', theta)"
   ]
  },
  {
   "cell_type": "code",
   "execution_count": 17,
   "id": "5faedd21",
   "metadata": {},
   "outputs": [
    {
     "data": {
      "text/plain": [
       "Text(0.5, 1.0, '2a: Normalization Training Loss per Iteration')"
      ]
     },
     "execution_count": 17,
     "metadata": {},
     "output_type": "execute_result"
    },
    {
     "data": {
      "image/png": "[encoded data removed]",
      "text/plain": [
       "<Figure size 432x288 with 1 Axes>"
      ]
     },
     "metadata": {
      "needs_background": "light"
     },
     "output_type": "display_data"
    }
   ],
   "source": [
    "plt.plot(range(1, iterations + 1), training_loss_history)\n",
    "plt.plot(range(1, iterations + 1), validation_loss_history)\n",
    "plt.grid()\n",
    "plt.xlabel('Iterations')\n",
    "plt.ylabel('Loss')\n",
    "plt.title('2a: Normalization Training Loss per Iteration')"
   ]
  },
  {
   "cell_type": "code",
   "execution_count": 18,
   "id": "a410c7d0",
   "metadata": {},
   "outputs": [],
   "source": [
    "# Standardization Process\n",
    "scaler = StandardScaler()\n",
    "\n",
    "#Training Setup\n",
    "df_norm_train = df_train\n",
    "\n",
    "df_norm_train[['price']] = scaler.fit_transform(df_train[['price']])\n",
    "df_norm_train[categories_1] = scaler.fit_transform(df_train[categories_1])\n",
    "\n",
    "Y_norm_train = df_norm_train[['price']].to_numpy()\n",
    "\n",
    "m_norm_train = len(Y_norm_train)\n",
    "\n",
    "X_norm_train = df_norm_train[categories_1].to_numpy()\n",
    "X_norm_train = np.hstack((np.ones((m_norm_train,1)), X_norm_train))"
   ]
  },
  {
   "cell_type": "code",
   "execution_count": 19,
   "id": "117fff1a",
   "metadata": {},
   "outputs": [],
   "source": [
    "#Testing Setup\n",
    "df_norm_test = df_test\n",
    "\n",
    "df_norm_test[['price']] = scaler.fit_transform(df_norm_test[['price']])\n",
    "df_norm_test[categories_1] = scaler.fit_transform(df_norm_test[categories_1])\n",
    "\n",
    "Y_norm_test = df_norm_test[['price']].to_numpy()\n",
    "\n",
    "m_norm_test = len(Y_norm_test)\n",
    "\n",
    "X_norm_test = df_norm_test[categories_1].to_numpy()\n",
    "X_norm_test = np.hstack((np.ones((m_norm_test,1)), X_norm_test))"
   ]
  },
  {
   "cell_type": "code",
   "execution_count": 20,
   "id": "969f32bd",
   "metadata": {},
   "outputs": [
    {
     "name": "stdout",
     "output_type": "stream",
     "text": [
      "Theta Prediction 2a = [[2.94983202e-16]\n",
      " [3.88481592e-01]\n",
      " [8.90651783e-02]\n",
      " [3.04158375e-01]\n",
      " [2.40438864e-01]\n",
      " [1.60108211e-01]]\n"
     ]
    }
   ],
   "source": [
    "iterations = 2000\n",
    "alpha = 0.01\n",
    "\n",
    "theta = np.zeros((6,1))\n",
    "\n",
    "theta, training_loss_history, validation_loss_history = find_linear_regression(X_norm_train, Y_norm_train, X_norm_test, Y_norm_test, theta, alpha, iterations)\n",
    "print('Theta Prediction 2a =', theta)"
   ]
  },
  {
   "cell_type": "code",
   "execution_count": 21,
   "id": "0e5eb754",
   "metadata": {},
   "outputs": [
    {
     "data": {
      "text/plain": [
       "Text(0.5, 1.0, '2a: Standardization Training Loss per Iteration')"
      ]
     },
     "execution_count": 21,
     "metadata": {},
     "output_type": "execute_result"
    },
    {
     "data": {
      "image/png": "[encoded data removed]",
      "text/plain": [
       "<Figure size 432x288 with 1 Axes>"
      ]
     },
     "metadata": {
      "needs_background": "light"
     },
     "output_type": "display_data"
    }
   ],
   "source": [
    "plt.plot(range(1, iterations + 1), training_loss_history)\n",
    "plt.plot(range(1, iterations + 1), validation_loss_history)\n",
    "plt.grid()\n",
    "plt.xlabel('Iterations')\n",
    "plt.ylabel('Loss')\n",
    "plt.title('2a: Standardization Training Loss per Iteration')"
   ]
  },
  {
   "cell_type": "markdown",
   "id": "24c0d36e",
   "metadata": {},
   "source": [
    "## 2b: Standardization and Normalization Process\n",
    "using categories: area, bedrooms, bathrooms, stories, mainroad, guestroom, basement, hotwaterheating, airconditioning, parking, prefarea"
   ]
  },
  {
   "cell_type": "code",
   "execution_count": 22,
   "id": "ebcde97a",
   "metadata": {},
   "outputs": [],
   "source": [
    "# Normalization Process\n",
    "scaler = MinMaxScaler()\n",
    "\n",
    "#Training Setup\n",
    "df_norm_train = df_train\n",
    "\n",
    "df_norm_train[['price']] = scaler.fit_transform(df_train[['price']])\n",
    "df_norm_train[categories_2] = scaler.fit_transform(df_train[categories_2])\n",
    "\n",
    "Y_norm_train = df_norm_train[['price']].to_numpy()\n",
    "\n",
    "m_norm_train = len(Y_norm_train)\n",
    "\n",
    "X_norm_train = df_norm_train[categories_2].to_numpy()\n",
    "X_norm_train = np.hstack((np.ones((m_norm_train,1)), X_norm_train))"
   ]
  },
  {
   "cell_type": "code",
   "execution_count": 23,
   "id": "89765a15",
   "metadata": {},
   "outputs": [],
   "source": [
    "#Testing Setup\n",
    "df_norm_test = df_test\n",
    "\n",
    "df_norm_test[['price']] = scaler.fit_transform(df_norm_test[['price']])\n",
    "df_norm_test[categories_2] = scaler.fit_transform(df_norm_test[categories_2])\n",
    "\n",
    "Y_norm_test = df_norm_test[['price']].to_numpy()\n",
    "\n",
    "m_norm_test = len(Y_norm_test)\n",
    "\n",
    "X_norm_test = df_norm_test[categories_2].to_numpy()\n",
    "X_norm_test = np.hstack((np.ones((m_norm_test,1)), X_norm_test))"
   ]
  },
  {
   "cell_type": "code",
   "execution_count": 24,
   "id": "bca58769",
   "metadata": {},
   "outputs": [
    {
     "name": "stdout",
     "output_type": "stream",
     "text": [
      "Theta Prediction 2b = [[0.01510195]\n",
      " [0.17142513]\n",
      " [0.0689308 ]\n",
      " [0.17188723]\n",
      " [0.11171555]\n",
      " [0.04733703]\n",
      " [0.04444856]\n",
      " [0.02559448]\n",
      " [0.08398789]\n",
      " [0.08312635]\n",
      " [0.08921215]\n",
      " [0.0730595 ]]\n"
     ]
    }
   ],
   "source": [
    "iterations = 4000\n",
    "alpha = 0.01\n",
    "\n",
    "theta = np.zeros((12,1))\n",
    "\n",
    "theta, training_loss_history, validation_loss_history = find_linear_regression(X_norm_train, Y_norm_train, X_norm_test, Y_norm_test, theta, alpha, iterations)\n",
    "print('Theta Prediction 2b =', theta)"
   ]
  },
  {
   "cell_type": "code",
   "execution_count": 25,
   "id": "4bc9537d",
   "metadata": {},
   "outputs": [
    {
     "data": {
      "text/plain": [
       "Text(0.5, 1.0, '2b: Normalization Training Loss per Iteration')"
      ]
     },
     "execution_count": 25,
     "metadata": {},
     "output_type": "execute_result"
    },
    {
     "data": {
      "image/png": "[encoded data removed]",
      "text/plain": [
       "<Figure size 432x288 with 1 Axes>"
      ]
     },
     "metadata": {
      "needs_background": "light"
     },
     "output_type": "display_data"
    }
   ],
   "source": [
    "plt.plot(range(1, iterations + 1), training_loss_history)\n",
    "plt.plot(range(1, iterations + 1), validation_loss_history)\n",
    "plt.grid()\n",
    "plt.xlabel('Iterations')\n",
    "plt.ylabel('Loss')\n",
    "plt.title('2b: Normalization Training Loss per Iteration')"
   ]
  },
  {
   "cell_type": "code",
   "execution_count": 26,
   "id": "98abaa7a",
   "metadata": {},
   "outputs": [],
   "source": [
    "# Standardization Process\n",
    "scaler = StandardScaler()\n",
    "\n",
    "#Training Setup\n",
    "df_norm_train = df_train\n",
    "\n",
    "df_norm_train[['price']] = scaler.fit_transform(df_train[['price']])\n",
    "df_norm_train[categories_2] = scaler.fit_transform(df_train[categories_2])\n",
    "\n",
    "Y_norm_train = df_norm_train[['price']].to_numpy()\n",
    "\n",
    "m_norm_train = len(Y_norm_train)\n",
    "\n",
    "X_norm_train = df_norm_train[categories_2].to_numpy()\n",
    "X_norm_train = np.hstack((np.ones((m_norm_train,1)), X_norm_train))"
   ]
  },
  {
   "cell_type": "code",
   "execution_count": 27,
   "id": "e91dcb0f",
   "metadata": {},
   "outputs": [],
   "source": [
    "#Testing Setup\n",
    "df_norm_test = df_test\n",
    "\n",
    "df_norm_test[['price']] = scaler.fit_transform(df_norm_test[['price']])\n",
    "df_norm_test[categories_2] = scaler.fit_transform(df_norm_test[categories_2])\n",
    "\n",
    "Y_norm_test = df_norm_test[['price']].to_numpy()\n",
    "\n",
    "m_norm_test = len(Y_norm_test)\n",
    "\n",
    "X_norm_test = df_norm_test[categories_2].to_numpy()\n",
    "X_norm_test = np.hstack((np.ones((m_norm_test,1)), X_norm_test))"
   ]
  },
  {
   "cell_type": "code",
   "execution_count": 28,
   "id": "e12b6868",
   "metadata": {},
   "outputs": [
    {
     "name": "stdout",
     "output_type": "stream",
     "text": [
      "Theta Prediction 2b = [[2.08721929e-16]\n",
      " [2.86794094e-01]\n",
      " [5.67079803e-02]\n",
      " [2.60177941e-01]\n",
      " [2.00679660e-01]\n",
      " [8.59338997e-02]\n",
      " [8.77068889e-02]\n",
      " [8.74907280e-02]\n",
      " [1.26523843e-01]\n",
      " [2.19597829e-01]\n",
      " [1.11769169e-01]\n",
      " [1.60274069e-01]]\n"
     ]
    }
   ],
   "source": [
    "iterations = 2000\n",
    "alpha = 0.01\n",
    "\n",
    "theta = np.zeros((12,1))\n",
    "\n",
    "theta, training_loss_history, validation_loss_history = find_linear_regression(X_norm_train, Y_norm_train, X_norm_test, Y_norm_test, theta, alpha, iterations)\n",
    "print('Theta Prediction 2b =', theta)"
   ]
  },
  {
   "cell_type": "code",
   "execution_count": 29,
   "id": "bfb94932",
   "metadata": {
    "scrolled": true
   },
   "outputs": [
    {
     "data": {
      "text/plain": [
       "Text(0.5, 1.0, '2b: Standardization Training Loss per Iteration')"
      ]
     },
     "execution_count": 29,
     "metadata": {},
     "output_type": "execute_result"
    },
    {
     "data": {
      "image/png": "[encoded data removed]",
      "text/plain": [
       "<Figure size 432x288 with 1 Axes>"
      ]
     },
     "metadata": {
      "needs_background": "light"
     },
     "output_type": "display_data"
    }
   ],
   "source": [
    "plt.plot(range(1, iterations + 1), training_loss_history)\n",
    "plt.plot(range(1, iterations + 1), validation_loss_history)\n",
    "plt.grid()\n",
    "plt.xlabel('Iterations')\n",
    "plt.ylabel('Loss')\n",
    "plt.title('2b: Standardization Training Loss per Iteration')"
   ]
  },
  {
   "cell_type": "markdown",
   "id": "beb92170",
   "metadata": {},
   "source": [
    "## 3a: Feature Scaling with Penalities\n",
    "using categories: area, bedrooms, bathrooms, stories, parking"
   ]
  },
  {
   "cell_type": "code",
   "execution_count": 30,
   "id": "d03e54af",
   "metadata": {},
   "outputs": [],
   "source": [
    "def find_penalty_loss(X, Y, theta, m):\n",
    "    '''c'''\n",
    "\n",
    "    h = X.dot(theta)\n",
    "    error = np.subtract(h,Y)\n",
    "    squareError = np.square(error)\n",
    "    J = 1/(2*m) * np.sum(squareError) #loss calculation\n",
    "    \n",
    "    return J"
   ]
  },
  {
   "cell_type": "code",
   "execution_count": 31,
   "id": "44d676f1",
   "metadata": {},
   "outputs": [],
   "source": [
    "def find_penalty_linear_regression(X_train, Y_train, X_test, Y_test, theta, alpha, penalty, iterations):\n",
    "    '''Using gradient descent'''\n",
    "    \n",
    "    training_loss_history = np.zeros(iterations)\n",
    "    validation_loss_history = np.zeros(iterations)\n",
    "    \n",
    "    for i in range(iterations):\n",
    "        h = X_train.dot(theta)\n",
    "        \n",
    "        error = np.subtract(h,Y_train)\n",
    "        \n",
    "        dj_dtheta = (1/m_train) * X_train.transpose().dot(error)   #(2,100)dot(100,1)    \n",
    "    \n",
    "        theta = theta*(1-alpha*penalty/m_train) - alpha*dj_dtheta  #penalty added here\n",
    "        \n",
    "        training_loss_history[i] = find_penalty_loss(X_train, Y_train, theta, m_train)\n",
    "        validation_loss_history[i] = find_penalty_loss(X_test, Y_test, theta, m_test)\n",
    "        \n",
    "    return theta, training_loss_history, validation_loss_history"
   ]
  },
  {
   "cell_type": "code",
   "execution_count": 32,
   "id": "d25c92e0",
   "metadata": {},
   "outputs": [],
   "source": [
    "X_norm_train, Y_norm_train, X_norm_test, Y_norm_test = feature_scale(df_train, df_test, categories_1, MinMaxScaler())"
   ]
  },
  {
   "cell_type": "code",
   "execution_count": 33,
   "id": "94c1e7e4",
   "metadata": {},
   "outputs": [
    {
     "name": "stdout",
     "output_type": "stream",
     "text": [
      "Theta Prediction 3a = [[0.07157215]\n",
      " [0.24612363]\n",
      " [0.09945522]\n",
      " [0.19764804]\n",
      " [0.14062242]\n",
      " [0.12353226]]\n"
     ]
    }
   ],
   "source": [
    "iterations = 4000\n",
    "penalty = 1\n",
    "alpha = 0.01\n",
    "\n",
    "theta = np.zeros((6,1))\n",
    "\n",
    "theta, training_loss_history, validation_loss_history = find_penalty_linear_regression(X_norm_train, Y_norm_train, X_norm_test, Y_norm_test, theta, alpha, penalty, iterations)\n",
    "print('Theta Prediction 3a =', theta)"
   ]
  },
  {
   "cell_type": "code",
   "execution_count": 34,
   "id": "e6a807af",
   "metadata": {},
   "outputs": [
    {
     "data": {
      "text/plain": [
       "Text(0.5, 1.0, '3a: Penalty and Normalization Training Loss per Iteration')"
      ]
     },
     "execution_count": 34,
     "metadata": {},
     "output_type": "execute_result"
    },
    {
     "data": {
      "image/png": "[encoded data removed]",
      "text/plain": [
       "<Figure size 432x288 with 1 Axes>"
      ]
     },
     "metadata": {
      "needs_background": "light"
     },
     "output_type": "display_data"
    }
   ],
   "source": [
    "plt.plot(range(1, iterations + 1), training_loss_history)\n",
    "plt.plot(range(1, iterations + 1), validation_loss_history)\n",
    "plt.grid()\n",
    "plt.xlabel('Iterations')\n",
    "plt.ylabel('Loss')\n",
    "plt.title('3a: Penalty and Normalization Training Loss per Iteration')"
   ]
  },
  {
   "cell_type": "markdown",
   "id": "64851ac6",
   "metadata": {},
   "source": [
    "## 3b: Feature Scaling with Penalities\n",
    "using categories: area, bedrooms, bathrooms, stories, mainroad, guestroom, basement, hotwaterheating, airconditioning, parking, prefarea"
   ]
  },
  {
   "cell_type": "code",
   "execution_count": 35,
   "id": "6ffdefbe",
   "metadata": {},
   "outputs": [],
   "source": [
    "X_norm_train, Y_norm_train, X_norm_test, Y_norm_test = feature_scale(df_train, df_test, categories_2, MinMaxScaler())"
   ]
  },
  {
   "cell_type": "code",
   "execution_count": 36,
   "id": "ae036527",
   "metadata": {},
   "outputs": [
    {
     "name": "stdout",
     "output_type": "stream",
     "text": [
      "Theta Prediction 3b = [[0.03168419]\n",
      " [0.12787466]\n",
      " [0.0633683 ]\n",
      " [0.13995762]\n",
      " [0.09968573]\n",
      " [0.05319526]\n",
      " [0.04349824]\n",
      " [0.02752653]\n",
      " [0.06323221]\n",
      " [0.08333335]\n",
      " [0.08155385]\n",
      " [0.07063083]]\n"
     ]
    }
   ],
   "source": [
    "iterations = 4000\n",
    "penalty = 10\n",
    "alpha = 0.01\n",
    "\n",
    "theta = np.zeros((12,1))\n",
    "\n",
    "theta, training_loss_history, validation_loss_history = find_penalty_linear_regression(X_norm_train, Y_norm_train, X_norm_test, Y_norm_test, theta, alpha, penalty, iterations)\n",
    "print('Theta Prediction 3b =', theta)"
   ]
  },
  {
   "cell_type": "code",
   "execution_count": 37,
   "id": "72a85fb2",
   "metadata": {},
   "outputs": [
    {
     "data": {
      "text/plain": [
       "Text(0.5, 1.0, '3b: Penalty and Normalization Training Loss per Iteration')"
      ]
     },
     "execution_count": 37,
     "metadata": {},
     "output_type": "execute_result"
    },
    {
     "data": {
      "image/png": "[encoded data removed]",
      "text/plain": [
       "<Figure size 432x288 with 1 Axes>"
      ]
     },
     "metadata": {
      "needs_background": "light"
     },
     "output_type": "display_data"
    }
   ],
   "source": [
    "plt.plot(range(1, iterations + 1), training_loss_history)\n",
    "plt.plot(range(1, iterations + 1), validation_loss_history)\n",
    "plt.grid()\n",
    "plt.xlabel('Iterations')\n",
    "plt.ylabel('Loss')\n",
    "plt.title('3b: Penalty and Normalization Training Loss per Iteration')"
   ]
  },
  {
   "cell_type": "code",
   "execution_count": null,
   "id": "b5e39ac5",
   "metadata": {},
   "outputs": [],
   "source": []
  }
 ],
 "metadata": {
  "kernelspec": {
   "display_name": "Python 3 (ipykernel)",
   "language": "python",
   "name": "python3"
  },
  "language_info": {
   "codemirror_mode": {
    "name": "ipython",
    "version": 3
   },
   "file_extension": ".py",
   "mimetype": "text/x-python",
   "name": "python",
   "nbconvert_exporter": "python",
   "pygments_lexer": "ipython3",
   "version": "3.9.12"
  }
 },
 "nbformat": 4,
 "nbformat_minor": 5
}
