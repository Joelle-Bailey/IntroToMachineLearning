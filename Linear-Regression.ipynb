{
 "cells": [
  {
   "cell_type": "markdown",
   "id": "a153f004",
   "metadata": {},
   "source": [
    "# Linear Regression\n",
    "Joelle Bailey (800984146)\n",
    "For ECGR 4101 HW0"
   ]
  },
  {
   "cell_type": "code",
   "execution_count": 48,
   "id": "03ad3836",
   "metadata": {},
   "outputs": [],
   "source": [
    "import numpy as np\n",
    "import pandas as pd\n",
    "import matplotlib.pyplot as plt"
   ]
  },
  {
   "cell_type": "code",
   "execution_count": 49,
   "id": "5e3f37f1",
   "metadata": {},
   "outputs": [],
   "source": [
    "dataset = pd.read_csv('D3.csv')"
   ]
  },
  {
   "cell_type": "code",
   "execution_count": 50,
   "id": "1420eaf5",
   "metadata": {},
   "outputs": [],
   "source": [
    "# Separates columns into individual arrays\n",
    "X1 = dataset.values[:,0] \n",
    "X2 = dataset.values[:,1]\n",
    "X3 = dataset.values[:,2]\n",
    "Y = dataset.values[:,3]"
   ]
  },
  {
   "cell_type": "code",
   "execution_count": 51,
   "id": "0a4ce76d",
   "metadata": {},
   "outputs": [],
   "source": [
    "m = len(X1)                 #dim of data column\n",
    "X0 = np.ones((m,1))         #creates X0 filled with 1s \n",
    "X1 = X1.reshape(m,1)        #transposes explanatory columns\n",
    "X2 = X2.reshape(m,1)\n",
    "X3 = X3.reshape(m,1)\n",
    "Y = Y.reshape(m,1)"
   ]
  },
  {
   "cell_type": "code",
   "execution_count": 52,
   "id": "956aeaf3",
   "metadata": {},
   "outputs": [],
   "source": [
    "def find_loss(X, Y, theta):\n",
    "    '''explanation here'''\n",
    "\n",
    "    h = X.dot(theta)\n",
    "    error = np.subtract(h,Y)\n",
    "    squareError = np.square(error)\n",
    "    J = 1/(2*m) * np.sum(squareError) #loss calculation\n",
    "    \n",
    "    return J"
   ]
  },
  {
   "cell_type": "code",
   "execution_count": 53,
   "id": "8b4d1047",
   "metadata": {},
   "outputs": [],
   "source": [
    "def find_linear_regression(X, Y, theta, alpha, iterations):\n",
    "    '''Using gradient descent Comment here'''\n",
    "    \n",
    "    loss_history = np.zeros(iterations)\n",
    "    \n",
    "    for i in range(iterations):\n",
    "        h = X.dot(theta)\n",
    "        \n",
    "        error = np.subtract(h,Y)\n",
    "        \n",
    "        dj_dtheta = (1/m) * X.transpose().dot(error)   #(2,100)dot(100,1)\n",
    "        \n",
    "        theta = theta - alpha*dj_dtheta\n",
    "        loss_history[i] = find_loss(X, Y, theta)\n",
    "        \n",
    "        \n",
    "    return theta, loss_history"
   ]
  },
  {
   "cell_type": "markdown",
   "id": "66718838",
   "metadata": {},
   "source": [
    "Linear Regression on X1"
   ]
  },
  {
   "cell_type": "code",
   "execution_count": 54,
   "id": "3aef440c",
   "metadata": {},
   "outputs": [
    {
     "name": "stdout",
     "output_type": "stream",
     "text": [
      "Theta X1 = [[ 5.92043383]\n",
      " [-2.03541173]]\n"
     ]
    }
   ],
   "source": [
    "iterations = 3000\n",
    "alpha = 0.01\n",
    "X = np.hstack((X0,X1))\n",
    "\n",
    "theta = np.zeros((2,1))\n",
    "\n",
    "theta, loss_history = find_linear_regression(X, Y, theta, alpha, iterations)\n",
    "print('Theta X1 =', theta)"
   ]
  },
  {
   "cell_type": "code",
   "execution_count": 55,
   "id": "72d2d9a9",
   "metadata": {
    "scrolled": true
   },
   "outputs": [
    {
     "data": {
      "text/plain": [
       "Text(0.5, 1.0, 'Linear Regression Result for X1')"
      ]
     },
     "execution_count": 55,
     "metadata": {},
     "output_type": "execute_result"
    },
    {
     "data": {
      "image/png": "[encoded data removed]",
      "text/plain": [
       "<Figure size 432x288 with 1 Axes>"
      ]
     },
     "metadata": {
      "needs_background": "light"
     },
     "output_type": "display_data"
    }
   ],
   "source": [
    "plt.scatter(X1, Y)\n",
    "plt.plot(X1, X.dot(theta), color = 'red', label = 'Linear Regression')\n",
    "plt.xlabel('X1 Data Input')\n",
    "plt.ylabel('X1 Data Output (Y)')\n",
    "plt.title('Linear Regression Result for X1')"
   ]
  },
  {
   "cell_type": "code",
   "execution_count": 56,
   "id": "245c0248",
   "metadata": {},
   "outputs": [
    {
     "data": {
      "text/plain": [
       "Text(0.5, 1.0, 'X1 Loss per Iteration')"
      ]
     },
     "execution_count": 56,
     "metadata": {},
     "output_type": "execute_result"
    },
    {
     "data": {
      "image/png": "[encoded data removed]",
      "text/plain": [
       "<Figure size 432x288 with 1 Axes>"
      ]
     },
     "metadata": {
      "needs_background": "light"
     },
     "output_type": "display_data"
    }
   ],
   "source": [
    "plt.plot(range(1, iterations + 1), loss_history)\n",
    "plt.grid()\n",
    "plt.xlabel('Iterations')\n",
    "plt.ylabel('Loss')\n",
    "plt.title('X1 Loss per Iteration')"
   ]
  },
  {
   "cell_type": "markdown",
   "id": "9be708ef",
   "metadata": {},
   "source": [
    "Linear Regression on X2"
   ]
  },
  {
   "cell_type": "code",
   "execution_count": 84,
   "id": "917357f8",
   "metadata": {},
   "outputs": [
    {
     "name": "stdout",
     "output_type": "stream",
     "text": [
      "Theta X2 = [[0.73606043]\n",
      " [0.55760761]]\n"
     ]
    }
   ],
   "source": [
    "iterations = 1500\n",
    "alpha = 0.08\n",
    "X = np.hstack((X0,X2))\n",
    "\n",
    "theta = np.zeros((2,1))\n",
    "\n",
    "theta, loss_history = find_linear_regression(X, Y, theta, alpha, iterations)\n",
    "print('Theta X2 =', theta)"
   ]
  },
  {
   "cell_type": "code",
   "execution_count": 85,
   "id": "3b8d30b6",
   "metadata": {},
   "outputs": [
    {
     "data": {
      "text/plain": [
       "Text(0.5, 1.0, 'Linear Regression Result for X2')"
      ]
     },
     "execution_count": 85,
     "metadata": {},
     "output_type": "execute_result"
    },
    {
     "data": {
      "image/png": "[encoded data removed]",
      "text/plain": [
       "<Figure size 432x288 with 1 Axes>"
      ]
     },
     "metadata": {
      "needs_background": "light"
     },
     "output_type": "display_data"
    }
   ],
   "source": [
    "plt.scatter(X2, Y)\n",
    "plt.plot(X2, X.dot(theta), color = 'green', label = 'Linear Regression')\n",
    "plt.xlabel('X2 Data Input')\n",
    "plt.ylabel('X2 Data Output (Y)')\n",
    "plt.title('Linear Regression Result for X2')"
   ]
  },
  {
   "cell_type": "code",
   "execution_count": 86,
   "id": "9a07278d",
   "metadata": {},
   "outputs": [
    {
     "data": {
      "text/plain": [
       "Text(0.5, 1.0, 'X2 Loss per Iteration')"
      ]
     },
     "execution_count": 86,
     "metadata": {},
     "output_type": "execute_result"
    },
    {
     "data": {
      "image/png": "[encoded data removed]",
      "text/plain": [
       "<Figure size 432x288 with 1 Axes>"
      ]
     },
     "metadata": {
      "needs_background": "light"
     },
     "output_type": "display_data"
    }
   ],
   "source": [
    "plt.plot(range(1, iterations + 1), loss_history)\n",
    "plt.grid()\n",
    "plt.xlabel('Iterations')\n",
    "plt.ylabel('Loss')\n",
    "plt.title('X2 Loss per Iteration')"
   ]
  },
  {
   "cell_type": "markdown",
   "id": "7fd7b149",
   "metadata": {},
   "source": [
    "Linear Regression on X3"
   ]
  },
  {
   "cell_type": "code",
   "execution_count": 93,
   "id": "ab571894",
   "metadata": {},
   "outputs": [
    {
     "name": "stdout",
     "output_type": "stream",
     "text": [
      "Theta X3 = [[ 2.86831421]\n",
      " [-0.51925373]]\n"
     ]
    }
   ],
   "source": [
    "iterations = 3000\n",
    "alpha = 0.01\n",
    "X = np.hstack((X0,X3))\n",
    "\n",
    "theta = np.zeros((2,1))\n",
    "\n",
    "theta, loss_history = find_linear_regression(X, Y, theta, alpha, iterations)\n",
    "print('Theta X3 =', theta)"
   ]
  },
  {
   "cell_type": "code",
   "execution_count": 94,
   "id": "3303b4e7",
   "metadata": {},
   "outputs": [
    {
     "data": {
      "text/plain": [
       "Text(0.5, 1.0, 'Linear Regression Result for X3')"
      ]
     },
     "execution_count": 94,
     "metadata": {},
     "output_type": "execute_result"
    },
    {
     "data": {
      "image/png": "[encoded data removed]",
      "text/plain": [
       "<Figure size 432x288 with 1 Axes>"
      ]
     },
     "metadata": {
      "needs_background": "light"
     },
     "output_type": "display_data"
    }
   ],
   "source": [
    "plt.scatter(X3, Y)\n",
    "plt.plot(X3, X.dot(theta), color = 'orangered', label = 'Linear Regression')\n",
    "plt.xlabel('X3 Data Input')\n",
    "plt.ylabel('X3 Data Output (Y)')\n",
    "plt.title('Linear Regression Result for X3')"
   ]
  },
  {
   "cell_type": "code",
   "execution_count": 133,
   "id": "ed073df8",
   "metadata": {},
   "outputs": [
    {
     "data": {
      "text/plain": [
       "Text(0.5, 1.0, 'X3 Loss per Iteration')"
      ]
     },
     "execution_count": 133,
     "metadata": {},
     "output_type": "execute_result"
    },
    {
     "data": {
      "image/png": "[encoded data removed]",
      "text/plain": [
       "<Figure size 432x288 with 1 Axes>"
      ]
     },
     "metadata": {
      "needs_background": "light"
     },
     "output_type": "display_data"
    }
   ],
   "source": [
    "plt.plot(range(1, iterations + 1), loss_history)\n",
    "plt.grid()\n",
    "plt.xlabel('Iterations')\n",
    "plt.ylabel('Loss')\n",
    "plt.title('X3 Loss per Iteration')"
   ]
  },
  {
   "cell_type": "markdown",
   "id": "ea77b78f",
   "metadata": {},
   "source": [
    "Linear Regression on X1, X2, X3"
   ]
  },
  {
   "cell_type": "code",
   "execution_count": 127,
   "id": "bcb2feb1",
   "metadata": {},
   "outputs": [],
   "source": [
    "iterations = 3000\n",
    "alpha = 0.1\n",
    "X = np.hstack((X0,X1,X2,X3))\n",
    "\n",
    "theta = np.zeros((4,1))"
   ]
  },
  {
   "cell_type": "code",
   "execution_count": 128,
   "id": "6728dbc3",
   "metadata": {},
   "outputs": [
    {
     "name": "stdout",
     "output_type": "stream",
     "text": [
      "Theta X_all = [[ 5.31416717]\n",
      " [-2.00371927]\n",
      " [ 0.53256334]\n",
      " [-0.26560187]]\n"
     ]
    }
   ],
   "source": [
    "theta, loss_history = find_linear_regression(X, Y, theta, alpha, iterations)\n",
    "print('Theta X_all =', theta)"
   ]
  },
  {
   "cell_type": "code",
   "execution_count": 129,
   "id": "b69d7cb8",
   "metadata": {},
   "outputs": [
    {
     "data": {
      "text/plain": [
       "Text(0.5, 1.0, 'X_all Loss per Iteration, alpha = 0.1')"
      ]
     },
     "execution_count": 129,
     "metadata": {},
     "output_type": "execute_result"
    },
    {
     "data": {
      "image/png": "[encoded data removed]",
      "text/plain": [
       "<Figure size 432x288 with 1 Axes>"
      ]
     },
     "metadata": {
      "needs_background": "light"
     },
     "output_type": "display_data"
    }
   ],
   "source": [
    "plt.plot(range(1, iterations + 1), loss_history)\n",
    "plt.grid()\n",
    "plt.xlabel('Iterations')\n",
    "plt.ylabel('Loss')\n",
    "plt.title('X_all Loss per Iteration, alpha = 0.1')"
   ]
  },
  {
   "cell_type": "code",
   "execution_count": 132,
   "id": "ae6d60de",
   "metadata": {},
   "outputs": [
    {
     "name": "stdout",
     "output_type": "stream",
     "text": [
      "Prediction(1,1,1) = [3.57740937]\n",
      "Prediction(2,0,4) = [0.24432117]\n",
      "Prediction(3,2,1) = [0.10253417]\n"
     ]
    }
   ],
   "source": [
    "# Predicted Values\n",
    "prediction1 = np.array([1,1,1,1])\n",
    "prediction1 = prediction1.dot(theta)\n",
    "print('Prediction(1,1,1) =', prediction1)\n",
    "\n",
    "prediction2 = np.array([1,2,0,4])\n",
    "prediction2 = prediction2.dot(theta)\n",
    "print('Prediction(2,0,4) =', prediction2)\n",
    "\n",
    "prediction3 = np.array([1,3,2,1])\n",
    "prediction3 = prediction3.dot(theta)\n",
    "print('Prediction(3,2,1) =', prediction3)\n",
    "\n"
   ]
  }
 ],
 "metadata": {
  "kernelspec": {
   "display_name": "Python 3 (ipykernel)",
   "language": "python",
   "name": "python3"
  },
  "language_info": {
   "codemirror_mode": {
    "name": "ipython",
    "version": 3
   },
   "file_extension": ".py",
   "mimetype": "text/x-python",
   "name": "python",
   "nbconvert_exporter": "python",
   "pygments_lexer": "ipython3",
   "version": "3.9.12"
  }
 },
 "nbformat": 4,
 "nbformat_minor": 5
}
